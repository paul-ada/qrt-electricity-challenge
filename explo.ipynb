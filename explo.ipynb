{
 "cells": [
  {
   "cell_type": "code",
   "execution_count": 1,
   "metadata": {},
   "outputs": [],
   "source": [
    "import numpy as np\n",
    "import pandas as pd\n",
    "import matplotlib.pyplot as plt"
   ]
  },
  {
   "cell_type": "code",
   "execution_count": 2,
   "metadata": {},
   "outputs": [],
   "source": [
    "X_train = pd.read_csv('data/X_train_NHkHMNU.csv')\n",
    "Y_train = pd.read_csv('data/y_train_ZAN5mwg.csv')"
   ]
  },
  {
   "cell_type": "code",
   "execution_count": 4,
   "metadata": {},
   "outputs": [
    {
     "data": {
      "text/html": [
       "<div>\n",
       "<style scoped>\n",
       "    .dataframe tbody tr th:only-of-type {\n",
       "        vertical-align: middle;\n",
       "    }\n",
       "\n",
       "    .dataframe tbody tr th {\n",
       "        vertical-align: top;\n",
       "    }\n",
       "\n",
       "    .dataframe thead th {\n",
       "        text-align: right;\n",
       "    }\n",
       "</style>\n",
       "<table border=\"1\" class=\"dataframe\">\n",
       "  <thead>\n",
       "    <tr style=\"text-align: right;\">\n",
       "      <th></th>\n",
       "      <th>ID</th>\n",
       "      <th>DAY_ID</th>\n",
       "      <th>COUNTRY</th>\n",
       "      <th>DE_CONSUMPTION</th>\n",
       "      <th>FR_CONSUMPTION</th>\n",
       "      <th>DE_FR_EXCHANGE</th>\n",
       "      <th>FR_DE_EXCHANGE</th>\n",
       "      <th>DE_NET_EXPORT</th>\n",
       "      <th>FR_NET_EXPORT</th>\n",
       "      <th>DE_NET_IMPORT</th>\n",
       "      <th>...</th>\n",
       "      <th>FR_RESIDUAL_LOAD</th>\n",
       "      <th>DE_RAIN</th>\n",
       "      <th>FR_RAIN</th>\n",
       "      <th>DE_WIND</th>\n",
       "      <th>FR_WIND</th>\n",
       "      <th>DE_TEMP</th>\n",
       "      <th>FR_TEMP</th>\n",
       "      <th>GAS_RET</th>\n",
       "      <th>COAL_RET</th>\n",
       "      <th>CARBON_RET</th>\n",
       "    </tr>\n",
       "  </thead>\n",
       "  <tbody>\n",
       "    <tr>\n",
       "      <th>0</th>\n",
       "      <td>1054</td>\n",
       "      <td>206</td>\n",
       "      <td>FR</td>\n",
       "      <td>0.210099</td>\n",
       "      <td>-0.427458</td>\n",
       "      <td>-0.606523</td>\n",
       "      <td>0.606523</td>\n",
       "      <td>NaN</td>\n",
       "      <td>0.692860</td>\n",
       "      <td>NaN</td>\n",
       "      <td>...</td>\n",
       "      <td>-0.444661</td>\n",
       "      <td>-0.17268</td>\n",
       "      <td>-0.556356</td>\n",
       "      <td>-0.790823</td>\n",
       "      <td>-0.283160</td>\n",
       "      <td>-1.069070</td>\n",
       "      <td>-0.063404</td>\n",
       "      <td>0.339041</td>\n",
       "      <td>0.124552</td>\n",
       "      <td>-0.002445</td>\n",
       "    </tr>\n",
       "    <tr>\n",
       "      <th>1</th>\n",
       "      <td>2049</td>\n",
       "      <td>501</td>\n",
       "      <td>FR</td>\n",
       "      <td>-0.022399</td>\n",
       "      <td>-1.003452</td>\n",
       "      <td>-0.022063</td>\n",
       "      <td>0.022063</td>\n",
       "      <td>-0.57352</td>\n",
       "      <td>-1.130838</td>\n",
       "      <td>0.57352</td>\n",
       "      <td>...</td>\n",
       "      <td>-1.183194</td>\n",
       "      <td>-1.24030</td>\n",
       "      <td>-0.770457</td>\n",
       "      <td>1.522331</td>\n",
       "      <td>0.828412</td>\n",
       "      <td>0.437419</td>\n",
       "      <td>1.831241</td>\n",
       "      <td>-0.659091</td>\n",
       "      <td>0.047114</td>\n",
       "      <td>-0.490365</td>\n",
       "    </tr>\n",
       "  </tbody>\n",
       "</table>\n",
       "<p>2 rows × 35 columns</p>\n",
       "</div>"
      ],
      "text/plain": [
       "     ID  DAY_ID COUNTRY  DE_CONSUMPTION  FR_CONSUMPTION  DE_FR_EXCHANGE  \\\n",
       "0  1054     206      FR        0.210099       -0.427458       -0.606523   \n",
       "1  2049     501      FR       -0.022399       -1.003452       -0.022063   \n",
       "\n",
       "   FR_DE_EXCHANGE  DE_NET_EXPORT  FR_NET_EXPORT  DE_NET_IMPORT  ...  \\\n",
       "0        0.606523            NaN       0.692860            NaN  ...   \n",
       "1        0.022063       -0.57352      -1.130838        0.57352  ...   \n",
       "\n",
       "   FR_RESIDUAL_LOAD  DE_RAIN   FR_RAIN   DE_WIND   FR_WIND   DE_TEMP  \\\n",
       "0         -0.444661 -0.17268 -0.556356 -0.790823 -0.283160 -1.069070   \n",
       "1         -1.183194 -1.24030 -0.770457  1.522331  0.828412  0.437419   \n",
       "\n",
       "    FR_TEMP   GAS_RET  COAL_RET  CARBON_RET  \n",
       "0 -0.063404  0.339041  0.124552   -0.002445  \n",
       "1  1.831241 -0.659091  0.047114   -0.490365  \n",
       "\n",
       "[2 rows x 35 columns]"
      ]
     },
     "execution_count": 4,
     "metadata": {},
     "output_type": "execute_result"
    }
   ],
   "source": [
    "X_train.head(2)"
   ]
  },
  {
   "cell_type": "code",
   "execution_count": 6,
   "metadata": {},
   "outputs": [
    {
     "name": "stdout",
     "output_type": "stream",
     "text": [
      "<class 'pandas.core.frame.DataFrame'>\n",
      "RangeIndex: 1494 entries, 0 to 1493\n",
      "Data columns (total 35 columns):\n",
      " #   Column            Non-Null Count  Dtype  \n",
      "---  ------            --------------  -----  \n",
      " 0   ID                1494 non-null   int64  \n",
      " 1   DAY_ID            1494 non-null   int64  \n",
      " 2   COUNTRY           1494 non-null   object \n",
      " 3   DE_CONSUMPTION    1494 non-null   float64\n",
      " 4   FR_CONSUMPTION    1494 non-null   float64\n",
      " 5   DE_FR_EXCHANGE    1469 non-null   float64\n",
      " 6   FR_DE_EXCHANGE    1469 non-null   float64\n",
      " 7   DE_NET_EXPORT     1370 non-null   float64\n",
      " 8   FR_NET_EXPORT     1424 non-null   float64\n",
      " 9   DE_NET_IMPORT     1370 non-null   float64\n",
      " 10  FR_NET_IMPORT     1424 non-null   float64\n",
      " 11  DE_GAS            1494 non-null   float64\n",
      " 12  FR_GAS            1494 non-null   float64\n",
      " 13  DE_COAL           1494 non-null   float64\n",
      " 14  FR_COAL           1494 non-null   float64\n",
      " 15  DE_HYDRO          1494 non-null   float64\n",
      " 16  FR_HYDRO          1494 non-null   float64\n",
      " 17  DE_NUCLEAR        1494 non-null   float64\n",
      " 18  FR_NUCLEAR        1494 non-null   float64\n",
      " 19  DE_SOLAR          1494 non-null   float64\n",
      " 20  FR_SOLAR          1494 non-null   float64\n",
      " 21  DE_WINDPOW        1494 non-null   float64\n",
      " 22  FR_WINDPOW        1494 non-null   float64\n",
      " 23  DE_LIGNITE        1494 non-null   float64\n",
      " 24  DE_RESIDUAL_LOAD  1494 non-null   float64\n",
      " 25  FR_RESIDUAL_LOAD  1494 non-null   float64\n",
      " 26  DE_RAIN           1400 non-null   float64\n",
      " 27  FR_RAIN           1400 non-null   float64\n",
      " 28  DE_WIND           1400 non-null   float64\n",
      " 29  FR_WIND           1400 non-null   float64\n",
      " 30  DE_TEMP           1400 non-null   float64\n",
      " 31  FR_TEMP           1400 non-null   float64\n",
      " 32  GAS_RET           1494 non-null   float64\n",
      " 33  COAL_RET          1494 non-null   float64\n",
      " 34  CARBON_RET        1494 non-null   float64\n",
      "dtypes: float64(32), int64(2), object(1)\n",
      "memory usage: 408.6+ KB\n"
     ]
    }
   ],
   "source": [
    "X_train.info()"
   ]
  },
  {
   "cell_type": "code",
   "execution_count": 8,
   "metadata": {},
   "outputs": [
    {
     "data": {
      "text/plain": [
       "0"
      ]
     },
     "execution_count": 8,
     "metadata": {},
     "output_type": "execute_result"
    }
   ],
   "source": [
    "(X_train.ID - Y_train.ID).sum()"
   ]
  }
 ],
 "metadata": {
  "kernelspec": {
   "display_name": "main",
   "language": "python",
   "name": "python3"
  },
  "language_info": {
   "codemirror_mode": {
    "name": "ipython",
    "version": 3
   },
   "file_extension": ".py",
   "mimetype": "text/x-python",
   "name": "python",
   "nbconvert_exporter": "python",
   "pygments_lexer": "ipython3",
   "version": "3.10.10"
  },
  "orig_nbformat": 4
 },
 "nbformat": 4,
 "nbformat_minor": 2
}
